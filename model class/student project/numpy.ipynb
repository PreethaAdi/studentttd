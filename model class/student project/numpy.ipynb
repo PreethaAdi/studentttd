{
 "cells": [
  {
   "cell_type": "raw",
   "id": "c41ea29a-755f-429d-9451-89ef7b84e0a1",
   "metadata": {},
   "source": []
  },
  {
   "cell_type": "code",
   "execution_count": 13,
   "id": "284ae05c-b43a-4568-b023-8ae291861f69",
   "metadata": {},
   "outputs": [
    {
     "name": "stdout",
     "output_type": "stream",
     "text": [
      "preetha\n"
     ]
    }
   ],
   "source": [
    "print(\"preetha\")"
   ]
  },
  {
   "cell_type": "code",
   "execution_count": 14,
   "id": "dec51359-99b4-4dd5-9bb7-7be68826e589",
   "metadata": {},
   "outputs": [
    {
     "data": {
      "text/plain": [
       "'preetha'"
      ]
     },
     "execution_count": 14,
     "metadata": {},
     "output_type": "execute_result"
    }
   ],
   "source": [
    "\"preetha\""
   ]
  },
  {
   "cell_type": "code",
   "execution_count": 15,
   "id": "e7f3c495-8b26-426f-9402-c313eb2b12da",
   "metadata": {},
   "outputs": [
    {
     "name": "stdout",
     "output_type": "stream",
     "text": [
      "[1 2 3 4]\n",
      "<class 'numpy.ndarray'>\n"
     ]
    }
   ],
   "source": [
    "import numpy as np\n",
    "arr = np.array([1,2,3,4])\n",
    "print(arr)\n",
    "print (type(arr))\n"
   ]
  },
  {
   "cell_type": "code",
   "execution_count": 16,
   "id": "c0aeedcf-e365-4ad1-8fb6-96133d9f2974",
   "metadata": {},
   "outputs": [
    {
     "name": "stdout",
     "output_type": "stream",
     "text": [
      "[[1 2 3]\n",
      " [4 5 6]]\n"
     ]
    }
   ],
   "source": [
    "arr_2 = np.array([[1,2,3],[4,5,6]])\n",
    "print(arr_2)\n"
   ]
  },
  {
   "cell_type": "code",
   "execution_count": 17,
   "id": "34f1ce33-c3ca-4b07-bf5d-dd574899d2c1",
   "metadata": {},
   "outputs": [
    {
     "name": "stdout",
     "output_type": "stream",
     "text": [
      "[[1 2 3]\n",
      " [4 5 6]\n",
      " [7 8 9]]\n"
     ]
    }
   ],
   "source": [
    "arr_3 = np.array([[1,2,3],[4,5,6],[7,8,9]])\n",
    "print(arr_3)"
   ]
  },
  {
   "cell_type": "code",
   "execution_count": 1,
   "id": "0c31bfa9-dc23-4584-b522-392acfd13335",
   "metadata": {},
   "outputs": [],
   "source": [
    "#pip install numpy\n"
   ]
  },
  {
   "cell_type": "code",
   "execution_count": 15,
   "id": "18cac511-e769-4eca-9fdf-1887b0f4512c",
   "metadata": {},
   "outputs": [
    {
     "name": "stdout",
     "output_type": "stream",
     "text": [
      "Array arr1:\n",
      " [[ 0  1  2  3]\n",
      " [ 4  5  6  7]\n",
      " [ 8  9 10 11]]\n",
      "Element at 0th row and 0th column of arr1 is: 0\n",
      "Element at 1st row and 2nd column  of arr1 is: 8\n"
     ]
    }
   ],
   "source": [
    "import numpy as np\n",
    "arr=np.arange(12)\n",
    "arr1=arr.reshape(3,4)\n",
    "print(\"Array arr1:\\n\",arr1)\n",
    "print(\"Element at 0th row and 0th column of arr1 is:\",arr1[0,0])\n",
    "print(\"Element at 1st row and 2nd column  of arr1 is:\",arr1[2,0])\n"
   ]
  },
  {
   "cell_type": "code",
   "execution_count": 9,
   "id": "639c4f5c-f8a8-4df2-a640-85db54db3b5a",
   "metadata": {},
   "outputs": [
    {
     "name": "stdout",
     "output_type": "stream",
     "text": [
      "Array arr1:\n",
      " [[ 0  1  2  3]\n",
      " [ 4  5  6  7]\n",
      " [ 8  9 10 11]]\n",
      "\n",
      "\n",
      "1st row :\n",
      " [4 5 6 7]\n",
      "2nd row:\n",
      " [ 8  9 10 11]\n"
     ]
    }
   ],
   "source": [
    "import numpy as np\n",
    "arr=np.arange(12)\n",
    "arr1=arr.reshape(3,4)\n",
    "print(\"Array arr1:\\n\",arr1)\n",
    "print(\"\\n\")\n",
    "print(\"1st row :\\n\",arr1[1])\n",
    "print(\"2nd row:\\n\",arr1[2])\n"
   ]
  },
  {
   "cell_type": "code",
   "execution_count": 17,
   "id": "30f6234c-6395-4650-b37b-fb818a19002f",
   "metadata": {},
   "outputs": [
    {
     "name": "stdout",
     "output_type": "stream",
     "text": [
      "Array arr1:\n",
      " [[[ 0  1  2]\n",
      "  [ 3  4  5]]\n",
      "\n",
      " [[ 6  7  8]\n",
      "  [ 9 10 11]]]\n",
      "Element: 8\n"
     ]
    }
   ],
   "source": [
    "import numpy as np\n",
    "arr=np.arange(12)\n",
    "arr1=arr.reshape(2,2,3)\n",
    "print(\"Array arr1:\\n\",arr1)\n",
    "print(\"Element:\",arr1[1,0,2])\n"
   ]
  },
  {
   "cell_type": "code",
   "execution_count": 23,
   "id": "ad54d001-ba73-4a5d-a171-9496986cc73a",
   "metadata": {},
   "outputs": [
    {
     "name": "stdout",
     "output_type": "stream",
     "text": [
      "[1 2 3 4 5]\n",
      "[42  2  3  4  5]\n"
     ]
    }
   ],
   "source": [
    "import numpy as np\n",
    "\n",
    "arr = np.array([1, 2, 3, 4, 5])\n",
    "x = arr.copy()\n",
    "arr[0] = 42\n",
    "x_v = arr.view()\n",
    "\n",
    "print(x)\n",
    "print(x_v)\n"
   ]
  },
  {
   "cell_type": "code",
   "execution_count": 61,
   "id": "4d0534af-843c-488d-bb35-b803da225257",
   "metadata": {},
   "outputs": [
    {
     "name": "stdout",
     "output_type": "stream",
     "text": [
      "[[ 0  1  2  3  4]\n",
      " [ 5  6  7  8  9]\n",
      " [10 11 12 13 14]]\n",
      "[10 11 12 13 14]\n"
     ]
    }
   ],
   "source": [
    "import numpy as np \n",
    "arr = np.arange(15)\n",
    "arr1 = arr.reshape(3,5)\n",
    "print(arr1)\n",
    "print(arr1[2])\n"
   ]
  },
  {
   "cell_type": "code",
   "execution_count": 91,
   "id": "708fd13c-873f-4cf3-80ec-b35333ba0581",
   "metadata": {},
   "outputs": [
    {
     "name": "stdout",
     "output_type": "stream",
     "text": [
      "35\n"
     ]
    }
   ],
   "source": [
    "from numpy import random\n",
    "x = random.randint(100)\n",
    "print(x)"
   ]
  },
  {
   "cell_type": "code",
   "execution_count": 168,
   "id": "cb58d5c7-0c38-45e0-a0de-103594bcc0ba",
   "metadata": {},
   "outputs": [
    {
     "name": "stdin",
     "output_type": "stream",
     "text": [
      "Enter your symbol: paper\n"
     ]
    },
    {
     "name": "stdout",
     "output_type": "stream",
     "text": [
      "The system chose:\n",
      "            _______\n",
      "        ---'   ____)\n",
      "              (_____)\n",
      "              (_____)\n",
      "              (____)\n",
      "        ---.__(___)\n",
      "        \n",
      "You chose:\n",
      "             _______\n",
      "        ---'    ____)____\n",
      "                   ______)\n",
      "                  _______)\n",
      "                 _______)\n",
      "        ---.__________)\n",
      "        \n"
     ]
    }
   ],
   "source": [
    "from numpy import random\n",
    "symbol = [\"stone\",\"paper\",\"scissors\"]\n",
    "player_1 = random.choice(symbol)\n",
    "self = input(\"Enter your symbol:\")\n",
    "def hand(symbols):\n",
    "    if(symbols  == \"stone\"):\n",
    "            return(\"\"\"\n",
    "            _______\n",
    "        ---'   ____)\n",
    "              (_____)\n",
    "              (_____)\n",
    "              (____)\n",
    "        ---.__(___)\n",
    "        \"\"\")\n",
    "    elif(symbols  == \"paper\"):\n",
    "            return(\"\"\"\n",
    "             _______\n",
    "        ---'    ____)____\n",
    "                   ______)\n",
    "                  _______)\n",
    "                 _______)\n",
    "        ---.__________)\n",
    "        \"\"\")\n",
    "    elif(symbols  == \"scissors\"):\n",
    "            return(\"\"\"\n",
    "            _______\n",
    "        ---'   ____)____\n",
    "                  ______)\n",
    "               __________)\n",
    "              (____)\n",
    "        ---.__(___)\n",
    "        \"\"\")\n",
    "print(f\"The system chose:{hand(player_1)}\")\n",
    "print(f\"You chose:{hand(self)}\")\n",
    "\n"
   ]
  },
  {
   "cell_type": "code",
   "execution_count": null,
   "id": "26afde9f-ce61-4af8-afba-3d6998c1d7a6",
   "metadata": {},
   "outputs": [],
   "source": []
  },
  {
   "cell_type": "code",
   "execution_count": null,
   "id": "b09109d3-bec4-4de2-9d31-defa419f7621",
   "metadata": {},
   "outputs": [],
   "source": []
  }
 ],
 "metadata": {
  "kernelspec": {
   "display_name": "Python [conda env:base] *",
   "language": "python",
   "name": "conda-base-py"
  },
  "language_info": {
   "codemirror_mode": {
    "name": "ipython",
    "version": 3
   },
   "file_extension": ".py",
   "mimetype": "text/x-python",
   "name": "python",
   "nbconvert_exporter": "python",
   "pygments_lexer": "ipython3",
   "version": "3.12.7"
  }
 },
 "nbformat": 4,
 "nbformat_minor": 5
}
